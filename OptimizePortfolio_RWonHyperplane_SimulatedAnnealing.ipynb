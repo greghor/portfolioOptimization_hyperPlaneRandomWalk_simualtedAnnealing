{
 "cells": [
  {
   "cell_type": "markdown",
   "metadata": {},
   "source": [
    "# Optimizing portfolio through a random exploration of the equities on a  hyperplane, when thermodynamics meets the stocks market."
   ]
  },
  {
   "cell_type": "markdown",
   "metadata": {},
   "source": [
    "## State of the problem"
   ]
  },
  {
   "cell_type": "markdown",
   "metadata": {},
   "source": [
    "I was recently following a MOOC on computationnal investing on Coursera and I ended up with the following exercise.\n",
    "Consider a portfolio made of $N$ equities, each equities contributes to the portfolio at fraction $w_i$ (naturally $0 \\le w_i \\le 1$). The problem consist in finding the repartition of the weight $w_i$ that optimize the sharp ratio of the portfolio. The sharp ratio of the porfolio is roughly the ratio of the mean daily return over the volatility. The higher is the sharp ratio, the lower is the risk so the 'safer' is the portfolio. \n",
    "\n",
    "This problem is easy in low dimensions, i.e. when the number of equities is low, say $N < 3$. The solution can be obtained by computing the sharp ratio on a sufficiently resolved mesh and then looking for the maximum. \n",
    "However, this brute force technique is of limited use when the number of equities become large because of a prohibiting computation cost (computing the sharp ratio for 4 equities with $1\\%$ resolution already requires $10^8$ iteration!). \n",
    "\n",
    "This problem can be adressed with the well known gradient descent method providing the solution is unique. Indeed, is the solution has multiple local maximas, the gradient is likely to get stucked far from the optimal solution and the method fails. \n",
    "\n",
    "Alternative techniques, such as stochastic exploration of the space composed by the weight of the equities (referred to as the parameter space), are generally much more suited for this class of problem. These methods belong to the large class of Monte-Carlo methods since randomness (think to the casino in Monte-Carlo) plays a very important role there. \n",
    "\n",
    "The method is summarized here in few words but will be detailed later on. The parameter space is randomly explored steps by steps, the random jump that leads to a higher sharp ratio will be automatically accepted, our explorer thus climbs  little by little the mountain of the sharp ratio. Specifity of this methods is that also jumps that lower the sharp ratio can be accepted with a given probability. This allows our explorer to escape from a local extremum if it gets stuck on a \"hill\" and then continues his route to the highest peak, the mount Everest of the sharp ratio!\n",
    "\n",
    "\n",
    "\n"
   ]
  },
  {
   "cell_type": "markdown",
   "metadata": {},
   "source": [
    "## What makes this problem interesting: the random exploration of a hyperplane!"
   ]
  },
  {
   "cell_type": "markdown",
   "metadata": {},
   "source": [
    "You can find tons of papers and articles related to optimization using stochastic technique. What makes this problem particularly interesting (at least to me) is the constraints on the parameters, i.e. the weight of the equities. \n",
    "The sum of the weight should be equal to one, no lower, no greater but exactly equal to one. This impose a strong constraint on the \"authorized\" move in the parameter space. This obviously translates into $\\sum_i w_i =1$, which is  the equation of a hyperplane of dimension $N-1$ embedded in a space of dimension $N$. \n",
    "Let's take the case of 3 equities ($N=3$) to make things more intuitve, \n",
    "say my portfolio is made of $x \\%$ of Apple and $y\\%$ of Facebook and $z\\%$ of Twitter (I trust in new techs :D )\n",
    "so that $x+y+z=1$. I guess everybody recognizes here the well known equation of a $2-D$ plane in the $3D$ space. \n",
    "\n",
    "Now that I convinced you that $\\sum_i w_i =1$ is the hyperplane equation, we can try to visualize what means and implies \"random exploration of the hyperplane\". In fact this is a just few big words to stipulate that you are stucked on a given part of the space. We experience this in our daily life, we live in a $3D$ space but most our motion take place on the floor (which is generally a plane) as we unfortunately spend much more time walking than flying. Add on the top of that some heavy booze and you will start to walk in an erratic way, which is a good representation of a random walk on a 2-D plane (the floor) embedded in a 3-D space (the physical space).\n",
    "Don't feel impressed by the hyper- suffix in hyperplane, this is just the name that plane take in an arbitrary number of dimension. "
   ]
  },
  {
   "cell_type": "markdown",
   "metadata": {},
   "source": [
    "## I) Implementing the random walk"
   ]
  },
  {
   "cell_type": "markdown",
   "metadata": {},
   "source": [
    "The key idea is to start from any point that belongs to the plane and be sure that, while adding random jump, the explorer stays on that plane. This constraint is automatically fulfilled if the jump corresponds to a vector that is parallel to the plane.\n",
    "\n",
    "How to do that?\n",
    "\n",
    "Well that is not to complicated if we remenber basic concepts from linear algebra. We just need to find $N-1$ independent vectors in our plane and then, we are sure that any linear combination of these vectors will also be parallel to the plane. \n",
    "\n",
    "Before implementing the random walk in Python, let's formalize the idea described above."
   ]
  },
  {
   "cell_type": "markdown",
   "metadata": {},
   "source": [
    "### Formal description"
   ]
  },
  {
   "cell_type": "markdown",
   "metadata": {},
   "source": [
    "Consider a space of dimension $N$, with the orthonormal basis $\\{ \\vec x_i \\}$ and the origin $O=(0,0,..,0)$, the equation of an arbitrary hyperplane $P$ is $$\\sum_{i=1}^N a_i x_i = 1,$$ where ${a_i}$ are real coefficients. \n",
    "\n",
    "The intersection of P with the axis $ \\vec x_k$ is $I_k=(0,0,..,1/a_k,0,0,0)$. \n",
    "\n",
    "An ensemble of $N-1$ vectors $\\vec u_k$  belonging to $P$ can be constructed as $$\\vec u_k =  \\vec{OI}_k - \\vec{OI}_N,$$ for $1 \\le k \\le N-1 $. \n",
    "\n",
    "Let's take the vector $\\vec v$ a linear combination of $\\{ \\vec u_k \\} $ such that $$\\vec v = \\sum_{k=1}^{N-1} b_k \\vec u_k,$$ \n",
    "with ${b_k}$ real and $b_k\\ne0$ for at least one $k$.\n",
    "\n",
    "If M is a point of P, then the point N defined by $ \\vec{ON} = \\vec{OM} + \\vec v$ also belongs to $P$."
   ]
  },
  {
   "cell_type": "markdown",
   "metadata": {},
   "source": [
    "### Python code"
   ]
  },
  {
   "cell_type": "markdown",
   "metadata": {},
   "source": [
    "Getting a random jump on a hyperplane is now quite easy, we just have to randomly draw the coefficients ${b_k}$ from a normal distribution (or any other distribution).\n",
    "\n",
    "The function \"RandJumpOnHyerPlane\" defined below takes as input:\n",
    "- the coefficient for the plane equation ${a_i}$\n",
    "- the characteristics size of the jump \n",
    "\n",
    "and returns a random vector called \"jump\"."
   ]
  },
  {
   "cell_type": "code",
   "execution_count": 1,
   "metadata": {
    "collapsed": true
   },
   "outputs": [],
   "source": [
    "def RandJumpOnHyperPlane(planeEq,stepSize):\n",
    "\n",
    "\n",
    "    import numpy as np\n",
    "    import numpy.matlib\n",
    "    \n",
    "    \n",
    "    n=len(planeEq) # dimension of the space\n",
    "    normalVec=planeEq[:] # normal vector to the plane\n",
    "\n",
    "\n",
    "    # create a n x n matrix filled with zeros, \n",
    "    # it will store the coordinates of n intersection points\n",
    "    pts=np.matlib.zeros((n,n))\n",
    "\n",
    "\n",
    "    # compute the coordinates of the intersection of the plane\n",
    "    # with the axis \n",
    "    coordIntersectionPoints=[1.]/normalVec\n",
    "\n",
    "    # the coordinates of the intersection are stored \n",
    "    # in the pts matrix column-wise\n",
    "    di=np.diag_indices(n)\n",
    "    pts[di]=coordIntersectionPoints\n",
    "\n",
    "    # next step consist in finding n-1 vectors lying in the plane\n",
    "    # easy, we just have to construct the vectors that \n",
    "    # link the points stored in the matrix pts\n",
    "\n",
    "    vec=np.matlib.zeros((n-1,n))\n",
    "\n",
    "    for gi in range(n-1):\n",
    "        vec[gi,:]=pts[gi,:]-pts[n-1,:]\n",
    "\n",
    "    # transpose vec to have the vectors columnwize\n",
    "    vec=vec.T\n",
    "\n",
    "    # draw n-1 coefficients from a normal distribution\n",
    "    jumpCoeff=np.random.normal(loc=0,scale=stepSize,size=(n-1,1))\n",
    "\n",
    "    #The coefficient are used to build a random linear combination \n",
    "    # of the plane vectors : the jump vector\n",
    "\n",
    "    jump=vec*jumpCoeff\n",
    "\n",
    "    # turn jump into an array\n",
    "    jump=np.squeeze(np.asarray(jump))\n",
    "    \n",
    "    #uncomment the line below to check that the jumps are perpendicular to the normal vector\n",
    "    #print np.dot(jump,normalVec)\n",
    "    \n",
    "    return jump"
   ]
  },
  {
   "cell_type": "markdown",
   "metadata": {},
   "source": [
    "Now it is time to check that the method works. We simulate two random walks (abreviated RWs) on two planes that are parallel. In this example we consider a $3D$ space that allows us to visualize the RWs."
   ]
  },
  {
   "cell_type": "code",
   "execution_count": 2,
   "metadata": {
    "collapsed": false
   },
   "outputs": [],
   "source": [
    "#----------\n",
    "# SIMULATE THE RWs\n",
    "#----------\n",
    "\n",
    "import numpy as np\n",
    "\n",
    "# define the planes\n",
    "planeEq1=np.array([1.,1.,1.])\n",
    "coeff=.4\n",
    "planeEq2=planeEq1*coeff\n",
    "\n",
    "# dimension of the space\n",
    "nDim=len(planeEq1)\n",
    "\n",
    "# take start points that belong to the planes\n",
    "start1=[1./planeEq1[0],0.,0.]\n",
    "start2=[1./planeEq2[0],0.,0.]\n",
    "\n",
    "# define the characteristics of the jumps\n",
    "stepSize1=0.1\n",
    "stepSize2=stepSize1*coeff\n",
    "\n",
    "# number of simulated steps\n",
    "nbStep=1000\n",
    "\n",
    "# construct two array of size nbStep x nDim to store the \n",
    "# position of the walker, and initialize them to the starting points\n",
    "pos1=np.zeros((nbStep,nDim))\n",
    "pos1[0,:]=start1\n",
    "\n",
    "pos2=np.zeros((nbStep,nDim))\n",
    "pos2[0,:]=start2\n",
    "\n",
    "for gi in np.arange(1,nbStep):\n",
    "\n",
    "    jump1=RandJumpOnHyperPlane(planeEq1,stepSize1)\n",
    "    pos1[gi,:]=pos1[gi-1,:]+jump1\n",
    "    \n",
    "    jump2=RandJumpOnHyperPlane(planeEq2,stepSize2)\n",
    "    pos2[gi,:]=pos2[gi-1,:]+jump2\n",
    "    \n",
    "    \n"
   ]
  },
  {
   "cell_type": "code",
   "execution_count": 3,
   "metadata": {
    "collapsed": false
   },
   "outputs": [
    {
     "data": {
      "image/png": "[encoded data removed]",
      "text/plain": [
       "<matplotlib.figure.Figure at 0x1081e17d0>"
      ]
     },
     "metadata": {},
     "output_type": "display_data"
    }
   ],
   "source": [
    "#-------------\n",
    "# Plot the RWs\n",
    "#-------------\n",
    "\n",
    "import matplotlib as mpl\n",
    "import matplotlib.pyplot as plt\n",
    "from mpl_toolkits.mplot3d import Axes3D\n",
    "%matplotlib inline\n",
    "fig = plt.figure(figsize=(12,5))\n",
    "ax = fig.add_subplot(121, projection='3d')\n",
    "ax.view_init(azim=43,elev=20)\n",
    "ax.plot(pos1[:,0],pos1[:,1],pos1[:,2],'b')\n",
    "ax.plot(pos2[:,0],pos2[:,1],pos2[:,2],'r')\n",
    "ax = fig.add_subplot(122, projection='3d')\n",
    "ax.view_init(azim=-61,elev=9)\n",
    "ax.plot(pos1[:,0],pos1[:,1],pos1[:,2],'b')\n",
    "ax.plot(pos2[:,0],pos2[:,1],pos2[:,2],'r')\n",
    "plt.show(block=False)"
   ]
  },
  {
   "cell_type": "markdown",
   "metadata": {},
   "source": [
    "The blue and red curves correspond to RWs in the plane $P_1: x+y+z=1$ and $P_2: x+ y+ z= 2.5$, respectively. \n",
    "I have represented the same RWs while using two positions for the camera. The left plot emphasizes the erratic motions while the right plot shows that the RWs indeed lie on parallel planes."
   ]
  },
  {
   "cell_type": "markdown",
   "metadata": {},
   "source": [
    "## II) Application to the portfolio's optimization"
   ]
  },
  {
   "cell_type": "markdown",
   "metadata": {
    "collapsed": true
   },
   "source": [
    "The next step consists in getting historical data for stock prices. This can be easily done via Yahoo Finance for example. I downloaded the daily data of different equities such as Facebook, JP Morgan, Apple, General Electrics, etc... for the period January 1st 2015 to December 31st 2015. \n",
    "\n",
    "The raw data format is .csv which is a very common. Let's translate the data to a more Python-friendly format and then we can have a look how are structured the data. \n",
    "\n",
    "\n"
   ]
  },
  {
   "cell_type": "code",
   "execution_count": 13,
   "metadata": {
    "collapsed": false
   },
   "outputs": [
    {
     "data": {
      "text/html": [
       "<div>\n",
       "<table border=\"1\" class=\"dataframe\">\n",
       "  <thead>\n",
       "    <tr style=\"text-align: right;\">\n",
       "      <th></th>\n",
       "      <th>Date</th>\n",
       "      <th>Open</th>\n",
       "      <th>High</th>\n",
       "      <th>Low</th>\n",
       "      <th>Close</th>\n",
       "      <th>Volume</th>\n",
       "      <th>Adj Close</th>\n",
       "    </tr>\n",
       "  </thead>\n",
       "  <tbody>\n",
       "    <tr>\n",
       "      <th>0</th>\n",
       "      <td>2015-12-31</td>\n",
       "      <td>107.010002</td>\n",
       "      <td>107.029999</td>\n",
       "      <td>104.820000</td>\n",
       "      <td>105.260002</td>\n",
       "      <td>40635300</td>\n",
       "      <td>105.260002</td>\n",
       "    </tr>\n",
       "    <tr>\n",
       "      <th>1</th>\n",
       "      <td>2015-12-30</td>\n",
       "      <td>108.580002</td>\n",
       "      <td>108.699997</td>\n",
       "      <td>107.180000</td>\n",
       "      <td>107.320000</td>\n",
       "      <td>25110600</td>\n",
       "      <td>107.320000</td>\n",
       "    </tr>\n",
       "    <tr>\n",
       "      <th>2</th>\n",
       "      <td>2015-12-29</td>\n",
       "      <td>106.959999</td>\n",
       "      <td>109.430000</td>\n",
       "      <td>106.860001</td>\n",
       "      <td>108.739998</td>\n",
       "      <td>30848500</td>\n",
       "      <td>108.739998</td>\n",
       "    </tr>\n",
       "    <tr>\n",
       "      <th>3</th>\n",
       "      <td>2015-12-28</td>\n",
       "      <td>107.589996</td>\n",
       "      <td>107.690002</td>\n",
       "      <td>106.180000</td>\n",
       "      <td>106.820000</td>\n",
       "      <td>26586600</td>\n",
       "      <td>106.820000</td>\n",
       "    </tr>\n",
       "    <tr>\n",
       "      <th>4</th>\n",
       "      <td>2015-12-24</td>\n",
       "      <td>109.000000</td>\n",
       "      <td>109.000000</td>\n",
       "      <td>107.949997</td>\n",
       "      <td>108.029999</td>\n",
       "      <td>13570400</td>\n",
       "      <td>108.029999</td>\n",
       "    </tr>\n",
       "    <tr>\n",
       "      <th>5</th>\n",
       "      <td>2015-12-23</td>\n",
       "      <td>107.269997</td>\n",
       "      <td>108.849998</td>\n",
       "      <td>107.199997</td>\n",
       "      <td>108.610001</td>\n",
       "      <td>32468800</td>\n",
       "      <td>108.610001</td>\n",
       "    </tr>\n",
       "    <tr>\n",
       "      <th>6</th>\n",
       "      <td>2015-12-22</td>\n",
       "      <td>107.400002</td>\n",
       "      <td>107.720001</td>\n",
       "      <td>106.449997</td>\n",
       "      <td>107.230003</td>\n",
       "      <td>32692300</td>\n",
       "      <td>107.230003</td>\n",
       "    </tr>\n",
       "    <tr>\n",
       "      <th>7</th>\n",
       "      <td>2015-12-21</td>\n",
       "      <td>107.279999</td>\n",
       "      <td>107.370003</td>\n",
       "      <td>105.570000</td>\n",
       "      <td>107.330002</td>\n",
       "      <td>43690600</td>\n",
       "      <td>107.330002</td>\n",
       "    </tr>\n",
       "    <tr>\n",
       "      <th>8</th>\n",
       "      <td>2015-12-18</td>\n",
       "      <td>108.910004</td>\n",
       "      <td>109.519997</td>\n",
       "      <td>105.809998</td>\n",
       "      <td>106.029999</td>\n",
       "      <td>95733800</td>\n",
       "      <td>106.029999</td>\n",
       "    </tr>\n",
       "    <tr>\n",
       "      <th>9</th>\n",
       "      <td>2015-12-17</td>\n",
       "      <td>112.019997</td>\n",
       "      <td>112.250000</td>\n",
       "      <td>108.980003</td>\n",
       "      <td>108.980003</td>\n",
       "      <td>44554400</td>\n",
       "      <td>108.980003</td>\n",
       "    </tr>\n",
       "  </tbody>\n",
       "</table>\n",
       "</div>"
      ],
      "text/plain": [
       "         Date        Open        High         Low       Close    Volume  \\\n",
       "0  2015-12-31  107.010002  107.029999  104.820000  105.260002  40635300   \n",
       "1  2015-12-30  108.580002  108.699997  107.180000  107.320000  25110600   \n",
       "2  2015-12-29  106.959999  109.430000  106.860001  108.739998  30848500   \n",
       "3  2015-12-28  107.589996  107.690002  106.180000  106.820000  26586600   \n",
       "4  2015-12-24  109.000000  109.000000  107.949997  108.029999  13570400   \n",
       "5  2015-12-23  107.269997  108.849998  107.199997  108.610001  32468800   \n",
       "6  2015-12-22  107.400002  107.720001  106.449997  107.230003  32692300   \n",
       "7  2015-12-21  107.279999  107.370003  105.570000  107.330002  43690600   \n",
       "8  2015-12-18  108.910004  109.519997  105.809998  106.029999  95733800   \n",
       "9  2015-12-17  112.019997  112.250000  108.980003  108.980003  44554400   \n",
       "\n",
       "    Adj Close  \n",
       "0  105.260002  \n",
       "1  107.320000  \n",
       "2  108.739998  \n",
       "3  106.820000  \n",
       "4  108.029999  \n",
       "5  108.610001  \n",
       "6  107.230003  \n",
       "7  107.330002  \n",
       "8  106.029999  \n",
       "9  108.980003  "
      ]
     },
     "execution_count": 13,
     "metadata": {},
     "output_type": "execute_result"
    }
   ],
   "source": [
    "def GetYahooData(symbol):\n",
    "# example for symbol ['AAPL','FB','JPM']\n",
    "\n",
    "    # the pandas dataframe is a very convenient library to manipulate csv format\n",
    "    import pandas as pd\n",
    "    \n",
    "    # the stocks are stored in a dictionnary, the keys being the symbol\n",
    "    equities_fullData=dict() \n",
    "    \n",
    "    for s in symbol:\n",
    "        filename='yahooFinanceData/' + s + '.csv'\n",
    "        equities_fullData[s]=pd.read_csv(filename)\n",
    "        \n",
    "    return equities_fullData\n",
    "\n",
    "# Quick look at how the data are structured\n",
    "equities=GetYahooData(['AAPL'])\n",
    "equities['AAPL'][:10]\n"
   ]
  },
  {
   "cell_type": "markdown",
   "metadata": {},
   "source": [
    "The table above shows the Apple's stock data for the last 10 days of 2015. We don't need all this information \n",
    "to build the portfolio, only the 'Adj Close' column will be used. \n",
    "\n",
    "It is time now to build our portfolio, what do we need for that? \n",
    "- get the stocks price\n",
    "- select only the 'Adj Close' values for the equities, note that the data are not sorted chronologically, which is a bit inconvenient. I therefore change the order of the data such that the 01/01/2015 comes first\n",
    "- normalize the stock price to their values at day one $$\\tilde V_{i,eq}=V_{i,eq}/V_{0,eq},$$ $V_{i,eq}$ is the adjusted close price for the equities $eq$ on day $i$.\n",
    "- compute the normalize value of the portfolio for day $i$: $$p_i =\\sum_{eq} w_{eq} \\tilde V_{i,eq}.$$ \n",
    "\n",
    "These sucessive steps are implemented in the CreatePortfolio.py function that takes as input the symbol of the equities and their corresponding weight. The first output of the function is the normalize value of the portfolio."
   ]
  },
  {
   "cell_type": "code",
   "execution_count": 14,
   "metadata": {
    "collapsed": true
   },
   "outputs": [],
   "source": [
    "def CreatePortfolio(equities,weight):\n",
    "    #ex: equities=['AAPL','FB','JPM']\n",
    "    #ex: weight=[0.25,0.5,0.25]\n",
    "    \n",
    "    import numpy as np\n",
    "\n",
    "\n",
    "    nbEquities=len(equities) #number of equities\n",
    "    nbTradingDay=252 #number of trading days\n",
    "\n",
    "    equities_fullData=GetYahooData(equities) \n",
    "    \n",
    "    #Create dictionnaries to store adjusted close values and normalize values\n",
    "    equities_adjCloseVal=dict()\n",
    "    equities_norm=dict()\n",
    "    \n",
    "    # get  the adjusted close values, reverse the order,  and normaliz to day 1\n",
    "    for symbol in equities:\n",
    "\n",
    "        #get the close value\n",
    "        equities_adjCloseVal[symbol]=np.array(equities_fullData[symbol]['Adj Close'].values)\n",
    "\n",
    "        # reverse order of the array to have first day : first position\n",
    "        equities_adjCloseVal[symbol]=equities_adjCloseVal[symbol][::-1]\n",
    "\n",
    "        #normalize price\n",
    "        equities_norm[symbol]=equities_adjCloseVal[symbol]/equities_adjCloseVal[symbol][0]\n",
    "\n",
    "\n",
    "    #Store the daily normalized value in a single matrix\n",
    "    dailyNormVal=np.zeros((nbTradingDay,nbEquities))\n",
    "\n",
    "    for gi in range(nbEquities):\n",
    "\n",
    "        dailyNormVal[:,gi]=equities_norm[equities[gi]]\n",
    "\n",
    "    # weighted normalized price\n",
    "    weiPF=dailyNormVal*weight\n",
    "    \n",
    "    # the normalized value of the portfolio is the sum of the weighted normalized price\n",
    "    cumPF=np.sum(weiPF,axis=1)\n",
    "    \n",
    "    return cumPF, weiPF, rawPF"
   ]
  },
  {
   "cell_type": "markdown",
   "metadata": {},
   "source": [
    "Let's check if the function works well by creating a portfolio composed of $50\\%$ Apple shares, $20\\%$ Facebook shares and $30\\%$ Twitter shares. "
   ]
  },
  {
   "cell_type": "code",
   "execution_count": 34,
   "metadata": {
    "collapsed": false
   },
   "outputs": [
    {
     "data": {
      "text/plain": [
       "<matplotlib.legend.Legend at 0x10de48a90>"
      ]
     },
     "execution_count": 34,
     "metadata": {},
     "output_type": "execute_result"
    },
    {
     "data": {
      "image/png": "[encoded data removed]",
      "text/plain": [
       "<matplotlib.figure.Figure at 0x10da5e890>"
      ]
     },
     "metadata": {},
     "output_type": "display_data"
    }
   ],
   "source": [
    "#-------------------------------------------------\n",
    "# Test of CreatePorfolio.py and visualization of the\n",
    "# evolution of the values\n",
    "#-------------------------------------------------\n",
    "\n",
    "equities=['AAPL','FB','TWTR']\n",
    "weight=[0.4,0.2,0.4]\n",
    "portfolio,dum,eqPrice=CreatePortfolio(equities,weight)\n",
    "\n",
    "# Make some plots\n",
    "\n",
    "fig = plt.figure(figsize=(12,5))\n",
    "\n",
    "ax = fig.add_subplot(121)\n",
    "plt.plot(eqPrice)\n",
    "plt.xlabel('trading day')\n",
    "plt.ylabel('normalized value')\n",
    "plt.xlim([0,252])\n",
    "plt.ylim([0.6,1.5])\n",
    "plt.legend(['Apple','Facebook','Twitter'],loc=3)\n",
    "plt.grid()\n",
    "\n",
    "\n",
    "ax = fig.add_subplot(122)\n",
    "plt.plot(portfolio,'k')\n",
    "plt.xlabel('trading day')\n",
    "plt.ylabel('normalized value')\n",
    "plt.xlim([0,252])\n",
    "plt.ylim([0.6,1.5])\n",
    "plt.legend(['portfolio'],loc=3)\n"
   ]
  },
  {
   "cell_type": "markdown",
   "metadata": {},
   "source": [
    "The portfolio's value (right plot) increases rapidly during the first trading days beacause of the good performance of Apple and Twitter (left plot). However, the important drop of Twitter's price around day $150$ is not compensated by the increase of the value of Facebook during the late stage of the year, the value of the portfolio therefore finishes the year with a normalized values  $\\sim 0.91$. \n",
    "\n",
    "In other words, this means that if you have invested $100 k$ on this portfolio on 01/01/2015, and if you decided to sell it on 31/12/2015, there was a net loss of $9k$. Too bad!\n",
    "\n"
   ]
  },
  {
   "cell_type": "code",
   "execution_count": 35,
   "metadata": {
    "collapsed": false
   },
   "outputs": [
    {
     "data": {
      "text/plain": [
       "0.91166342713137261"
      ]
     },
     "execution_count": 35,
     "metadata": {},
     "output_type": "execute_result"
    }
   ],
   "source": []
  },
  {
   "cell_type": "code",
   "execution_count": null,
   "metadata": {
    "collapsed": true
   },
   "outputs": [],
   "source": [
    "from simulate import simulate\n",
    "import numpy as np\n"
   ]
  },
  {
   "cell_type": "code",
   "execution_count": null,
   "metadata": {
    "collapsed": false
   },
   "outputs": [],
   "source": [
    "# test rand Jump on Hyper plane\n",
    "\n",
    "import matplotlib.pyplot as plt\n",
    "import numpy as np\n",
    "import numpy.matlib\n",
    "from scipy.stats import norm\n",
    "\n",
    "\n",
    "startDate=[2010,1,1]\n",
    "endDate=[2010,12,31]\n",
    "# possible equities \"AAPL\",\"FB\",'GE','GM','GOOG','JPM','MSFT','SP500','TWTR','XOM', 'YHOO'\n",
    "equities=['FB','GOOG','GE'] #, 'MSFT'] #,'AAPL','TWTR','YHOO']\n",
    "nbEquities=len(equities)\n",
    "\n",
    "sumWeightEquities=1.\n",
    "\n",
    "planeEq=np.concatenate((np.ones(nbEquities), [-sumWeightEquities] ) )\n",
    "\n",
    "stepSize=0.02\n",
    "boundMin=0.\n",
    "boundMax=1.\n",
    "\n",
    "nDim=len(planeEq)-1\n",
    "start=-planeEq[nDim]/nbEquities*np.ones(nbEquities)\n",
    "\n",
    "nbStep=5e3\n",
    "pos=np.zeros((nbStep,nDim))\n",
    "sharp=np.zeros(nbStep)\n",
    "pos[0,:]=start\n",
    "gi=1\n",
    "gTest=0\n",
    "\n",
    "K=0.98\n",
    "temp=np.sqrt(2)*(1-K)\n",
    "\n",
    "while np.all(pos[nbStep-1,:] == np.zeros(nbEquities)) :\n",
    "    \n",
    "    gTest+=1\n",
    "    \n",
    "    jump=opf.RandJumpOnHyperPlane(planeEq,stepSize)\n",
    "    \n",
    "    if opf.CheckBound(pos[gi-1,:]+jump, boundMin, boundMax ):\n",
    "        \n",
    "        posTmp=pos[gi-1,:]+jump\n",
    "        cumPF,toto,tata=opf.CreatePortfolio(equities,posTmp)\n",
    "        dailyRet=opf.DailyReturn(cumPF)\n",
    "        sharpTmp=np.mean(dailyRet)/np.std(dailyRet)*np.sqrt(252)\n",
    "        #vol, avDaiRet, sharpTmp, cumRet=simulate(startDate,endDate,equities,posTmp)\n",
    "        #lkh=norm.pdf(sharpTmp,loc=sharp[gi-1],scale=temp)\n",
    "        costFunc=sharp[gi-1]-sharpTmp\n",
    "        \n",
    "        if np.exp(-costFunc/temp) > np.random.rand():\n",
    "            \n",
    "            pos[gi]=posTmp\n",
    "            sharp[gi]=sharpTmp\n",
    "            gi+=1\n",
    "\n",
    "        \n",
    "\n",
    "idmax=np.argmax(sharp)\n",
    "print pos[idmax]\n",
    "print np.max(sharp)\n",
    "print gTest"
   ]
  },
  {
   "cell_type": "code",
   "execution_count": null,
   "metadata": {
    "collapsed": false
   },
   "outputs": [],
   "source": [
    "\n",
    "%matplotlib inline\n",
    "plt.plot(sharp)"
   ]
  },
  {
   "cell_type": "code",
   "execution_count": null,
   "metadata": {
    "collapsed": false
   },
   "outputs": [],
   "source": [
    "plt.plot(pos)"
   ]
  },
  {
   "cell_type": "code",
   "execution_count": null,
   "metadata": {
    "collapsed": false
   },
   "outputs": [],
   "source": [
    "plt.hist(pos[:,1],bins=100);"
   ]
  },
  {
   "cell_type": "code",
   "execution_count": null,
   "metadata": {
    "collapsed": true
   },
   "outputs": [],
   "source": []
  },
  {
   "cell_type": "code",
   "execution_count": null,
   "metadata": {
    "collapsed": false
   },
   "outputs": [],
   "source": [
    "plt.hist(pos[:,4],bins=30);\n",
    "idmax=np.argmax(sharp)\n",
    "print pos[idmax]"
   ]
  },
  {
   "cell_type": "code",
   "execution_count": null,
   "metadata": {
    "collapsed": false
   },
   "outputs": [],
   "source": [
    "import matplotlib as mpl\n",
    "from mpl_toolkits.mplot3d import Axes3D\n",
    "%matplotlib inline\n",
    "fig = plt.figure()\n",
    "ax = fig.add_subplot(111, projection='3d')\n",
    "ax.plot(pos[:,0],pos[:,1],sharp,'.')\n"
   ]
  },
  {
   "cell_type": "code",
   "execution_count": null,
   "metadata": {
    "collapsed": false
   },
   "outputs": [],
   "source": [
    "np.max(sharp)"
   ]
  },
  {
   "cell_type": "code",
   "execution_count": null,
   "metadata": {
    "collapsed": false
   },
   "outputs": [],
   "source": [
    "ac,toto,tata=opf.CreatePortfolio(['MSFT'],[1.])\n",
    "dr=opf.DailyReturn(ac)\n",
    "sharp=np.mean(dr)/np.std(dr)*np.sqrt(252)\n",
    "print sharp"
   ]
  },
  {
   "cell_type": "code",
   "execution_count": null,
   "metadata": {
    "collapsed": false
   },
   "outputs": [],
   "source": [
    "startDate=[2010,1,1]\n",
    "endDate=[2010,12,31]\n",
    "equities=[\"AAPL\",\"GLD\",\"GOOG\",\"IBM\"]\n",
    "\n",
    "allocMin=0.\n",
    "allocMax=1.01\n",
    "allocStep=0.1\n",
    "\n",
    "bestSharp=0\n",
    "\n",
    "for g1 in np.arange(allocMin,allocMax,allocStep):\n",
    "    for g2 in np.arange(allocMin,allocMax,allocStep):\n",
    "        for g3 in np.arange(allocMin,allocMax,allocStep):\n",
    "            for g4 in np.arange(allocMin,allocMax,allocStep):\n",
    "                \n",
    "                if g1+g2+g3+g4==1:\n",
    "                    vol, avDaiRet, sharp, cumRet=simulate(startDate,endDate,equities,[g1,g2,g3,g4])\n",
    "                    \n",
    "                    if sharp > bestSharp:\n",
    "                        bestSharp=sharp\n",
    "                        bestAlloc=[g1,g2,g3,g4]\n",
    "                        bestVol=vol\n",
    "                        bestAvDaiRet=avDaiRet\n",
    "                        bestCumRet= cumRet\n",
    "                        \n",
    "\n",
    "print \"startDate: \" + repr(startDate)\n",
    "print \"endDate: \" + repr(endDate)\n",
    "print \"equities: \" + repr(equities)\n",
    "print \"Best Alloc: \" + repr(bestAlloc)\n",
    "print \"best Sharp: \" + repr(bestSharp)\n"
   ]
  },
  {
   "cell_type": "code",
   "execution_count": null,
   "metadata": {
    "collapsed": false
   },
   "outputs": [],
   "source": [
    "\n",
    "\n",
    "function jump=RandJumpOnHyperPlane(planeEq,stepSize)\n",
    "% simulate a random jump on a hyperplane\n",
    "% input: coefficient of the hyperplane ax+by+cz+...+K=0 such that\n",
    "% planeEq=[a,b,c,...,K]\n",
    "\n",
    "% by greghor 13/01/15\n",
    "\n",
    "% for a hyper plane of dim n-1 lying in a space of dim n, \n",
    "% define n+1 points, lets make things easy and take the intersection \n",
    "% of the plane with the axes\n",
    "if nargin < 1\n",
    "    planeEq=[1 1 1 1];\n",
    "end\n",
    "if nargin < 2\n",
    "    stepSize=0.1;\n",
    "end\n",
    "\n",
    "n=length(planeEq)-1;\n",
    "\n",
    "\n",
    "normalVec=planeEq(1:n);\n",
    "\n",
    "\n",
    "pts=diag(planeEq(n+1)./planeEq(1:n)); % each point has n coord\n",
    "\n",
    "% compute n vectors in the plane\n",
    "vec=zeros(n,n-1);\n",
    "for gi=1:n-1\n",
    "    \n",
    "    vec(:,gi)=pts(n,:)-pts(gi,:);\n",
    "    \n",
    "end\n",
    "   \n",
    "jumpCoeff=(rand(1,n-1)-0.5)*stepSize;\n",
    "\n",
    "jump=jumpCoeff*vec';\n",
    "if nargout==0\n",
    "    display(['dot(normalVec, jump) = ' num2str(dot(normalVec,jump))])\n",
    "end\n",
    "end\n",
    "\n",
    "\n",
    "\n"
   ]
  },
  {
   "cell_type": "code",
   "execution_count": null,
   "metadata": {
    "collapsed": true
   },
   "outputs": [],
   "source": []
  }
 ],
 "metadata": {
  "kernelspec": {
   "display_name": "Python 2",
   "language": "python",
   "name": "python2"
  },
  "language_info": {
   "codemirror_mode": {
    "name": "ipython",
    "version": 2
   },
   "file_extension": ".py",
   "mimetype": "text/x-python",
   "name": "python",
   "nbconvert_exporter": "python",
   "pygments_lexer": "ipython2",
   "version": "2.7.11"
  }
 },
 "nbformat": 4,
 "nbformat_minor": 0
}
